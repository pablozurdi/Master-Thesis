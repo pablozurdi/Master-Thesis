{
 "cells": [
  {
   "cell_type": "code",
   "execution_count": null,
   "id": "007cfac4-8e9d-4cec-bd13-07dfb3cd77f4",
   "metadata": {},
   "outputs": [],
   "source": [
    "import glob\n",
    "import numpy as np\n",
    "from astropy.io import fits"
   ]
  },
  {
   "cell_type": "markdown",
   "id": "20fda53e-1335-4414-b3a2-1538020c135c",
   "metadata": {},
   "source": [
    " Due to the observatory regulations, the observations with KMOS are needed to be splitted\n",
    " into two halves. KMOS data is divided into two halves in a somewhat complex manner, requiring their \n",
    " merging to obtain a single set of 3-dimensional data (i.e., a ‘master cube’) before further analysis. \n",
    " Each half is sliced, alternating between data and empty strips. Additionally, each half has its own \n",
    " transformation matrix between pixel position and celestial coordinates, making the merging process non-trivial."
   ]
  },
  {
   "cell_type": "code",
   "execution_count": null,
   "id": "0bee9d8d-e037-408e-80a7-7d240afd8470",
   "metadata": {},
   "outputs": [],
   "source": [
    "path = 'C:\\\\Users\\\\pablo\\\\Desktop\\\\TFM\\\\data\\\\first_kmos\\\\'   # path were the two halves are\n",
    "\n",
    "fileList = sorted(glob.glob(path+'*.fits'))    # List of the two .fits files sorted\n",
    "im_redu = []                                   # List where to save the [1] component of every hdu\n",
    "for i in range(len(fileList)):\n",
    "    hdu = fits.open(fileList[i])               # From each FITS we work on the 2nd element, which is the SCI\n",
    "    data = hdu[1].data \n",
    "    im_redu.append(data) \n",
    "\n",
    "wcs_half1 = WCS(fits.open(fileList[0])[1].header)  # Each half has a different WCS\n",
    "wcs_half2 = WCS(fits.open(fileList[1])[1].header)"
   ]
  },
  {
   "cell_type": "markdown",
   "id": "0c3330ad-f3d4-4ed4-a945-97fae0f4ef78",
   "metadata": {},
   "source": [
    "Each slice has 27 rows, that's the origin of the \"27\" that will appear in the following cell.\n",
    "Here the idea is the next one: master_ima is an image corresponding to the first half + the extra slice\n",
    "from the second half, hence \"correcting\" the offset between these two halves. \n",
    "Then run over all its pixels, if we find nan, then replace it with the value\n",
    "of the same position in the second half. "
   ]
  },
  {
   "cell_type": "code",
   "execution_count": null,
   "id": "61d26707-cf50-4833-b60d-2a823eb7b773",
   "metadata": {},
   "outputs": [],
   "source": [
    "# This function merges two halves of kmos images into one\n",
    "# The images must have 3 axis. The syntax is: [z, y, x]\n",
    "def make_master_cube(half1, half2):\n",
    "\n",
    "    master_cube = []\n",
    "    for k in range(len(half1[:, 0, 0])):\n",
    "        master_ima = np.concatenate((half2[k, 0:27, :], half1[k, :, :] ))   # This image has the dimension of the full image and contains \n",
    "                                                                                 # the first half and the first strip of the second half\n",
    "                                                                                # (that actually is the last due to the origin=lower in plots)\n",
    "        for j in range(len(half1[0, :, 0])):       # Run Y pixels  \n",
    "            for i in range(len(half1[0, 0, :])):   # Run X pixels\n",
    "                if np.isnan(master_ima[j,i]):      # If a pixel is nan in the master_image image, replace its value for the one in the 2nd half     \n",
    "                    master_ima[j,i] = half2[k,j,i]\n",
    "                    \n",
    "        master_cube.append(master_ima)             # master_ima is for a single channel, master_cube contains all channels (all wavelength)\n",
    "\n",
    "    return master_cube"
   ]
  },
  {
   "cell_type": "code",
   "execution_count": null,
   "id": "764a083c-0e2d-4991-a4f7-c9e2784e6d2b",
   "metadata": {},
   "outputs": [],
   "source": [
    "# This procedure usually last (for the data of this work) about an hour\n",
    "master_cube = make_master_cube(im_redu[0], im_redu[1])"
   ]
  },
  {
   "cell_type": "code",
   "execution_count": null,
   "id": "8c28c990-a901-482d-9e69-beaeb4de82b0",
   "metadata": {},
   "outputs": [],
   "source": []
  },
  {
   "cell_type": "code",
   "execution_count": null,
   "id": "185afbff-5a98-41d2-90d5-251a9a4baac6",
   "metadata": {},
   "outputs": [],
   "source": []
  }
 ],
 "metadata": {
  "kernelspec": {
   "display_name": "Python 3 (ipykernel)",
   "language": "python",
   "name": "python3"
  },
  "language_info": {
   "codemirror_mode": {
    "name": "ipython",
    "version": 3
   },
   "file_extension": ".py",
   "mimetype": "text/x-python",
   "name": "python",
   "nbconvert_exporter": "python",
   "pygments_lexer": "ipython3",
   "version": "3.12.5"
  }
 },
 "nbformat": 4,
 "nbformat_minor": 5
}
